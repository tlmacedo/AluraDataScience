{
 "cells": [
  {
   "cell_type": "markdown",
   "id": "e7aefdbf17d2437",
   "metadata": {},
   "source": [
    "# Analisando as notas em geral"
   ]
  },
  {
   "cell_type": "code",
   "execution_count": 3,
   "id": "fbc121e30a2defb3",
   "metadata": {
    "ExecuteTime": {
     "end_time": "2024-05-14T23:06:06.221770Z",
     "start_time": "2024-05-14T23:06:06.182700Z"
    }
   },
   "outputs": [
    {
     "name": "stdout",
     "output_type": "stream",
     "text": [
      "Unexpected exception formatting exception. Falling back to standard exception\n"
     ]
    },
    {
     "name": "stderr",
     "output_type": "stream",
     "text": [
      "Traceback (most recent call last):\n",
      "  File \"/Volumes/Development/cursos/alura/dataScience/.venv/lib/python3.12/site-packages/IPython/core/interactiveshell.py\", line 3577, in run_code\n",
      "  File \"/var/folders/r5/j79tk45s49b3j6_cwp60jg3c0000gn/T/ipykernel_67662/69731894.py\", line 1, in <module>\n",
      "    import pandas as pd\n",
      "ModuleNotFoundError: No module named 'pandas'\n",
      "\n",
      "During handling of the above exception, another exception occurred:\n",
      "\n",
      "Traceback (most recent call last):\n",
      "  File \"/Volumes/Development/cursos/alura/dataScience/.venv/lib/python3.12/site-packages/pygments/styles/__init__.py\", line 45, in get_style_by_name\n",
      "ModuleNotFoundError: No module named 'pygments.styles.default'\n",
      "\n",
      "During handling of the above exception, another exception occurred:\n",
      "\n",
      "Traceback (most recent call last):\n",
      "  File \"/Volumes/Development/cursos/alura/dataScience/.venv/lib/python3.12/site-packages/IPython/core/interactiveshell.py\", line 2168, in showtraceback\n",
      "  File \"/Volumes/Development/cursos/alura/dataScience/.venv/lib/python3.12/site-packages/IPython/core/ultratb.py\", line 1454, in structured_traceback\n",
      "  File \"/Volumes/Development/cursos/alura/dataScience/.venv/lib/python3.12/site-packages/IPython/core/ultratb.py\", line 1345, in structured_traceback\n",
      "  File \"/Volumes/Development/cursos/alura/dataScience/.venv/lib/python3.12/site-packages/IPython/core/ultratb.py\", line 1192, in structured_traceback\n",
      "  File \"/Volumes/Development/cursos/alura/dataScience/.venv/lib/python3.12/site-packages/IPython/core/ultratb.py\", line 1082, in format_exception_as_a_whole\n",
      "  File \"/Volumes/Development/cursos/alura/dataScience/.venv/lib/python3.12/site-packages/IPython/core/ultratb.py\", line 1133, in get_records\n",
      "  File \"/Volumes/Development/cursos/alura/dataScience/.venv/lib/python3.12/site-packages/pygments/styles/__init__.py\", line 47, in get_style_by_name\n",
      "pygments.util.ClassNotFound: Could not find style module 'pygments.styles.default', though it should be builtin.\n"
     ]
    }
   ],
   "source": [
    "import pandas as pd\n",
    "notas = pd.read_csv(\"data/aula0/ml-latest-small/ratings.csv\")\n",
    "notas.head()"
   ]
  },
  {
   "cell_type": "code",
   "execution_count": null,
   "id": "e992220e26fd8014",
   "metadata": {
    "ExecuteTime": {
     "end_time": "2024-05-14T23:06:06.226761Z",
     "start_time": "2024-05-14T23:06:06.223076Z"
    }
   },
   "outputs": [],
   "source": [
    "notas.shape"
   ]
  },
  {
   "cell_type": "code",
   "execution_count": null,
   "id": "22692b93cbbef05a",
   "metadata": {
    "ExecuteTime": {
     "end_time": "2024-05-14T23:06:06.233853Z",
     "start_time": "2024-05-14T23:06:06.228169Z"
    }
   },
   "outputs": [],
   "source": [
    "notas.columns = ['usuarioId', 'filmeId', 'nota', 'momento']\n",
    "notas.head()"
   ]
  },
  {
   "cell_type": "code",
   "execution_count": null,
   "id": "e256c2d8ac6973f6",
   "metadata": {
    "ExecuteTime": {
     "end_time": "2024-05-14T23:06:06.245547Z",
     "start_time": "2024-05-14T23:06:06.235167Z"
    }
   },
   "outputs": [],
   "source": [
    "notas['nota'].sort_values().unique()"
   ]
  },
  {
   "cell_type": "code",
   "execution_count": null,
   "id": "5130e28bb216b64c",
   "metadata": {
    "ExecuteTime": {
     "end_time": "2024-05-14T23:06:06.252Z",
     "start_time": "2024-05-14T23:06:06.247130Z"
    }
   },
   "outputs": [],
   "source": [
    "notas.nota.value_counts()"
   ]
  },
  {
   "cell_type": "code",
   "execution_count": null,
   "id": "8883c8f0729395e",
   "metadata": {
    "ExecuteTime": {
     "end_time": "2024-05-14T23:06:06.256681Z",
     "start_time": "2024-05-14T23:06:06.252898Z"
    }
   },
   "outputs": [],
   "source": [
    "print(\"média\",notas.nota.mean())\n",
    "print(\"mediana\",notas.nota.median())"
   ]
  },
  {
   "cell_type": "code",
   "execution_count": null,
   "id": "6722e8944dbb2d58",
   "metadata": {
    "ExecuteTime": {
     "end_time": "2024-05-14T23:06:06.262527Z",
     "start_time": "2024-05-14T23:06:06.258533Z"
    }
   },
   "outputs": [],
   "source": [
    "notas.nota.head()"
   ]
  },
  {
   "cell_type": "code",
   "execution_count": null,
   "id": "9067065e59ab2c82",
   "metadata": {
    "ExecuteTime": {
     "end_time": "2024-05-14T23:06:06.410491Z",
     "start_time": "2024-05-14T23:06:06.272645Z"
    }
   },
   "outputs": [],
   "source": [
    "notas.nota.plot(kind='hist')"
   ]
  },
  {
   "cell_type": "code",
   "execution_count": null,
   "id": "3c24c287808f8d45",
   "metadata": {
    "ExecuteTime": {
     "end_time": "2024-05-14T23:06:06.421156Z",
     "start_time": "2024-05-14T23:06:06.412108Z"
    }
   },
   "outputs": [],
   "source": [
    "notas.nota.describe()"
   ]
  },
  {
   "cell_type": "markdown",
   "id": "44773d28e37e3808",
   "metadata": {},
   "source": [
    "# Olhando os filmes"
   ]
  },
  {
   "cell_type": "code",
   "execution_count": null,
   "id": "2c6f40d24b7eb5f5",
   "metadata": {
    "ExecuteTime": {
     "end_time": "2024-05-14T23:06:06.510164Z",
     "start_time": "2024-05-14T23:06:06.422114Z"
    }
   },
   "outputs": [],
   "source": [
    "import seaborn as sns\n",
    "import matplotlib.pyplot as plt\n",
    "\n",
    "sns.boxplot(notas.nota)"
   ]
  },
  {
   "cell_type": "code",
   "execution_count": null,
   "id": "8bfb2499613febd4",
   "metadata": {
    "ExecuteTime": {
     "end_time": "2024-05-14T23:06:06.527156Z",
     "start_time": "2024-05-14T23:06:06.512181Z"
    }
   },
   "outputs": [],
   "source": [
    "filmes = pd.read_csv(\"data/aula0/ml-latest-small/movies.csv\")\n",
    "filmes.columns = ['filmeId', 'tituloId', 'genero']\n",
    "filmes.head()"
   ]
  },
  {
   "cell_type": "markdown",
   "id": "952e9b1ef5ed84fc",
   "metadata": {},
   "source": [
    "# Analisando algumas notas especificas por filme"
   ]
  },
  {
   "cell_type": "code",
   "execution_count": null,
   "id": "20ae3df389a0fc04",
   "metadata": {
    "ExecuteTime": {
     "end_time": "2024-05-14T23:06:06.534433Z",
     "start_time": "2024-05-14T23:06:06.528501Z"
    }
   },
   "outputs": [],
   "source": [
    "notas.query('filmeId == 1').nota.mean()"
   ]
  },
  {
   "cell_type": "code",
   "execution_count": null,
   "id": "3bc7663024122bac",
   "metadata": {
    "ExecuteTime": {
     "end_time": "2024-05-14T23:06:06.540600Z",
     "start_time": "2024-05-14T23:06:06.535567Z"
    }
   },
   "outputs": [],
   "source": [
    "notas.query('filmeId == 2').nota.mean()"
   ]
  },
  {
   "cell_type": "code",
   "execution_count": null,
   "id": "76b9dffd1894278a",
   "metadata": {
    "ExecuteTime": {
     "end_time": "2024-05-14T23:08:48.620111Z",
     "start_time": "2024-05-14T23:08:48.611148Z"
    }
   },
   "outputs": [],
   "source": [
    "medias_por_filme = notas.groupby('filmeId').mean().nota\n",
    "medias_por_filme.head()"
   ]
  },
  {
   "cell_type": "code",
   "execution_count": null,
   "id": "78f4dd94417e4d71",
   "metadata": {
    "ExecuteTime": {
     "end_time": "2024-05-14T23:06:06.686511Z",
     "start_time": "2024-05-14T23:06:06.549962Z"
    }
   },
   "outputs": [],
   "source": [
    "medias_por_filme.plot(kind='hist')\n",
    "#medias_por_filme.iloc[0]"
   ]
  },
  {
   "cell_type": "code",
   "execution_count": null,
   "id": "f7bdc120a5022e05",
   "metadata": {
    "ExecuteTime": {
     "end_time": "2024-05-14T23:06:06.746499Z",
     "start_time": "2024-05-14T23:06:06.687584Z"
    }
   },
   "outputs": [],
   "source": [
    "sns.boxplot(y=medias_por_filme)\n",
    "#print(medias_por_filme.head())\n",
    "plt.show()\n"
   ]
  },
  {
   "cell_type": "code",
   "execution_count": null,
   "id": "f815552eb58383a6",
   "metadata": {
    "ExecuteTime": {
     "end_time": "2024-05-14T23:06:06.756421Z",
     "start_time": "2024-05-14T23:06:06.749958Z"
    }
   },
   "outputs": [],
   "source": [
    "medias_por_filme.describe()"
   ]
  },
  {
   "cell_type": "code",
   "execution_count": null,
   "id": "2022c1963b0bfded",
   "metadata": {
    "ExecuteTime": {
     "end_time": "2024-05-14T23:12:45.300638Z",
     "start_time": "2024-05-14T23:12:45.029060Z"
    }
   },
   "outputs": [],
   "source": [
    "sns.displot(medias_por_filme, kde= True)"
   ]
  },
  {
   "cell_type": "code",
   "execution_count": null,
   "id": "c1444e043493f381",
   "metadata": {
    "ExecuteTime": {
     "end_time": "2024-05-14T23:13:54.106946Z",
     "start_time": "2024-05-14T23:13:53.956936Z"
    }
   },
   "outputs": [],
   "source": [
    "plt.hist(medias_por_filme)\n",
    "plt.title(\"Histograma das médias dos filmes\")"
   ]
  },
  {
   "cell_type": "code",
   "execution_count": null,
   "id": "64a184b4c81ceba8",
   "metadata": {
    "ExecuteTime": {
     "end_time": "2024-05-14T23:21:59.665303Z",
     "start_time": "2024-05-14T23:21:59.586954Z"
    }
   },
   "outputs": [],
   "source": [
    "tmdb = pd.read_csv(\"data/tmdb_5000/tmdb_5000_movies.csv\")\n",
    "tmdb.head()"
   ]
  },
  {
   "cell_type": "code",
   "execution_count": null,
   "id": "4f11e9fa",
   "metadata": {},
   "outputs": [],
   "source": [
    "tmdb.original_language.unique()"
   ]
  }
 ],
 "metadata": {
  "kernelspec": {
   "display_name": "Python 3",
   "language": "python",
   "name": "python3"
  },
  "language_info": {
   "codemirror_mode": {
    "name": "ipython",
    "version": 3
   },
   "file_extension": ".py",
   "mimetype": "text/x-python",
   "name": "python",
   "nbconvert_exporter": "python",
   "pygments_lexer": "ipython3",
   "version": "3.12.3"
  }
 },
 "nbformat": 4,
 "nbformat_minor": 5
}
